{
 "cells": [
  {
   "cell_type": "markdown",
   "id": "8fe2c248",
   "metadata": {},
   "source": [
    "# Analysis of the engine’s performance with and without a supercharger"
   ]
  },
  {
   "cell_type": "markdown",
   "id": "1bd880c2",
   "metadata": {},
   "source": [
    "## Input Data"
   ]
  },
  {
   "cell_type": "markdown",
   "id": "6b38d3c7",
   "metadata": {},
   "source": [
    "#### Engine parameters"
   ]
  },
  {
   "cell_type": "code",
   "execution_count": 1,
   "id": "67da1072",
   "metadata": {},
   "outputs": [],
   "source": [
    "Vs = 0.0028 #Swept Volume (m^3)\n",
    "nm = 80 #Mechanical efficiency (%)\n",
    "ni = 74 #Isentropic efficiency (%)\n",
    "Cp = 1.005 #Specific heat capacity (J/kgK)"
   ]
  },
  {
   "cell_type": "markdown",
   "id": "6e038e94",
   "metadata": {},
   "source": [
    "#### Super Charger"
   ]
  },
  {
   "cell_type": "code",
   "execution_count": 2,
   "id": "cd7ed43c",
   "metadata": {},
   "outputs": [],
   "source": [
    "p1 = 1.013 #atmospheric pressure (bar)\n",
    "T1 = 288 #atmospheric temperature (K)\n",
    "pr = 1.6 #pressure ratio\n",
    "g = 1.4 #adiabatic gas constant\n",
    "R = 287 #real gas constant (J/kgK)"
   ]
  },
  {
   "cell_type": "markdown",
   "id": "44d41b17",
   "metadata": {},
   "source": [
    "# Case 1: (At a constant engine speed)"
   ]
  },
  {
   "cell_type": "code",
   "execution_count": 3,
   "id": "171d4334",
   "metadata": {},
   "outputs": [],
   "source": [
    "N = 4000 #engine speed (rpm)\n",
    "ip = 12.5 #average indicated power (Kw/m^3)\n",
    "nv = 85 #Volumetric efficiency (%)"
   ]
  },
  {
   "cell_type": "code",
   "execution_count": 4,
   "id": "3a085163",
   "metadata": {},
   "outputs": [],
   "source": [
    "#Supercharger pressure output\n",
    "p2 = pr*p1 #(bar)\n",
    "#Engine temperature output\n",
    "T21 = T1*(p2/p1)**((g-1)/g)\n",
    "#supercharger temperature output\n",
    "T2 = T1+((T21-T1)/(ni/100))\n",
    "#piston swept volume\n",
    "Vs1 = (Vs*(N/2))\n",
    "#equivalent volume\n",
    "Ve = (Vs1*p2*T1)/(T2*p1)\n",
    "#volumetric eficiency of the super charger\n",
    "nv1 = (Ve/Vs1)*100"
   ]
  },
  {
   "cell_type": "code",
   "execution_count": 5,
   "id": "61fc97a4",
   "metadata": {},
   "outputs": [],
   "source": [
    "#unsupercharged induced volume\n",
    "Vi = Vs1*(nv/100)\n",
    "#increament in the induced volume\n",
    "Vii = Ve-Vi\n",
    "#increament in the indicated power due to the volume of air\n",
    "ipa = ip*Vii\n",
    "#increament in the indicated power due to pressure of the air\n",
    "ipi = ((p2-p1)*10**5*Vs1)/(60*1000)\n",
    "#total increment in the unduced power\n",
    "ipt = ipi+ipa"
   ]
  },
  {
   "cell_type": "code",
   "execution_count": 6,
   "id": "90280e9c",
   "metadata": {},
   "outputs": [],
   "source": [
    "#increament in the brake power of the engine\n",
    "bp = ipt*(nm/100)\n",
    "#brake power without supercharger\n",
    "bpe = ip*(nm/100)\n",
    "#mass of air delivered to supercharger\n",
    "ma = (p2*(Vs1/60)*10**5)/(R*T2)\n",
    "#power consumed by the super charger\n",
    "P = ma*Cp*(T2-T1)\n",
    "#power delivered to the supercharger to run\n",
    "Pd = P/(nm/100)\n",
    "#net increament in the brake power\n",
    "bpn = bp-Pd"
   ]
  },
  {
   "cell_type": "markdown",
   "id": "761e0344",
   "metadata": {},
   "source": [
    "## Results"
   ]
  },
  {
   "cell_type": "code",
   "execution_count": 7,
   "id": "675d0fdf",
   "metadata": {},
   "outputs": [
    {
     "name": "stdout",
     "output_type": "stream",
     "text": [
      "Engine's indicated power without the supercharger is  12 Kw\n",
      "Engines indicated power with the supercharger is  40 Kw\n",
      "Engines brake power without the supercharger is  10 Kw\n",
      "Engines brake power with the supercharger is  21 Kw\n",
      "Volumetric efficiency of the engine with the supercharger is  134 %\n"
     ]
    }
   ],
   "source": [
    "print(\"Engine's indicated power without the supercharger is \",round(ip),'Kw')\n",
    "print(\"Engines indicated power with the supercharger is \",round(ipt),'Kw')\n",
    "print(\"Engines brake power without the supercharger is \",round(bpe),'Kw')\n",
    "print(\"Engines brake power with the supercharger is \",round(bpn),'Kw')\n",
    "print(\"Volumetric efficiency of the engine with the supercharger is \",round(nv1),\"%\")"
   ]
  },
  {
   "cell_type": "markdown",
   "id": "b34357b1",
   "metadata": {},
   "source": [
    "# Case 2:(Analysis of enginees output with and without supercharger for different engines speed)"
   ]
  },
  {
   "cell_type": "markdown",
   "id": "53812899",
   "metadata": {},
   "source": [
    "Importing the required libraries"
   ]
  },
  {
   "cell_type": "code",
   "execution_count": 8,
   "id": "87b4474b",
   "metadata": {},
   "outputs": [],
   "source": [
    "import pandas as pd\n",
    "import matplotlib.pyplot as plt"
   ]
  },
  {
   "cell_type": "markdown",
   "id": "49ea17c1",
   "metadata": {},
   "source": [
    "Importing the required data"
   ]
  },
  {
   "cell_type": "code",
   "execution_count": 9,
   "id": "6f393e4f",
   "metadata": {},
   "outputs": [
    {
     "data": {
      "text/html": [
       "<div>\n",
       "<style scoped>\n",
       "    .dataframe tbody tr th:only-of-type {\n",
       "        vertical-align: middle;\n",
       "    }\n",
       "\n",
       "    .dataframe tbody tr th {\n",
       "        vertical-align: top;\n",
       "    }\n",
       "\n",
       "    .dataframe thead th {\n",
       "        text-align: right;\n",
       "    }\n",
       "</style>\n",
       "<table border=\"1\" class=\"dataframe\">\n",
       "  <thead>\n",
       "    <tr style=\"text-align: right;\">\n",
       "      <th></th>\n",
       "      <th>Speed (rpm)</th>\n",
       "      <th>Volumetric Efficiency (%)</th>\n",
       "      <th>Indicated Power (Kw)</th>\n",
       "    </tr>\n",
       "  </thead>\n",
       "  <tbody>\n",
       "    <tr>\n",
       "      <th>0</th>\n",
       "      <td>1000</td>\n",
       "      <td>70</td>\n",
       "      <td>10</td>\n",
       "    </tr>\n",
       "    <tr>\n",
       "      <th>1</th>\n",
       "      <td>2000</td>\n",
       "      <td>76</td>\n",
       "      <td>13</td>\n",
       "    </tr>\n",
       "    <tr>\n",
       "      <th>2</th>\n",
       "      <td>3000</td>\n",
       "      <td>80</td>\n",
       "      <td>16</td>\n",
       "    </tr>\n",
       "    <tr>\n",
       "      <th>3</th>\n",
       "      <td>4000</td>\n",
       "      <td>82</td>\n",
       "      <td>20</td>\n",
       "    </tr>\n",
       "    <tr>\n",
       "      <th>4</th>\n",
       "      <td>5000</td>\n",
       "      <td>85</td>\n",
       "      <td>21</td>\n",
       "    </tr>\n",
       "    <tr>\n",
       "      <th>5</th>\n",
       "      <td>6000</td>\n",
       "      <td>86</td>\n",
       "      <td>22</td>\n",
       "    </tr>\n",
       "    <tr>\n",
       "      <th>6</th>\n",
       "      <td>7000</td>\n",
       "      <td>88</td>\n",
       "      <td>24</td>\n",
       "    </tr>\n",
       "    <tr>\n",
       "      <th>7</th>\n",
       "      <td>8000</td>\n",
       "      <td>90</td>\n",
       "      <td>26</td>\n",
       "    </tr>\n",
       "    <tr>\n",
       "      <th>8</th>\n",
       "      <td>9000</td>\n",
       "      <td>91</td>\n",
       "      <td>28</td>\n",
       "    </tr>\n",
       "    <tr>\n",
       "      <th>9</th>\n",
       "      <td>10000</td>\n",
       "      <td>93</td>\n",
       "      <td>30</td>\n",
       "    </tr>\n",
       "  </tbody>\n",
       "</table>\n",
       "</div>"
      ],
      "text/plain": [
       "   Speed (rpm)  Volumetric Efficiency (%)  Indicated Power (Kw)\n",
       "0         1000                         70                    10\n",
       "1         2000                         76                    13\n",
       "2         3000                         80                    16\n",
       "3         4000                         82                    20\n",
       "4         5000                         85                    21\n",
       "5         6000                         86                    22\n",
       "6         7000                         88                    24\n",
       "7         8000                         90                    26\n",
       "8         9000                         91                    28\n",
       "9        10000                         93                    30"
      ]
     },
     "execution_count": 9,
     "metadata": {},
     "output_type": "execute_result"
    }
   ],
   "source": [
    "data = pd.read_csv('Engine.csv')\n",
    "data    #this line can also bevwritten as data.head(n=10)\n"
   ]
  },
  {
   "cell_type": "code",
   "execution_count": 10,
   "id": "6e7b3b0c",
   "metadata": {},
   "outputs": [],
   "source": [
    "#Supercharger pressure output\n",
    "p2 = pr*p1 #(bar)\n",
    "#Engine temperature output\n",
    "T21 = T1*(p2/p1)**((g-1)/g)\n",
    "#supercharger temperature output\n",
    "T2 = T1+((T21-T1)/(ni/100))\n",
    "#piston swept volume\n",
    "Vs1 = (Vs*(data['Speed (rpm)']/2))\n",
    "#equivalent volume\n",
    "Ve = (Vs1*p2*T1)/(T2*p1)\n",
    "#volumetric eficiency of the super charger\n",
    "nv1 = (Ve/Vs1)*100"
   ]
  },
  {
   "cell_type": "code",
   "execution_count": 11,
   "id": "b80a1ced",
   "metadata": {},
   "outputs": [],
   "source": [
    "#unsupercharged induced volume\n",
    "Vi = Vs1*(data['Volumetric Efficiency (%)']/100)\n",
    "#increament in the induced volume\n",
    "Vii = Ve-Vi\n",
    "#increament in the indicated power due to the volume of air\n",
    "ipa = data['Indicated Power (Kw)']*Vii\n",
    "#increament in the indicated power due to pressure of the air\n",
    "ipi = ((p2-p1)*10**5*Vs1)/(60*1000)\n",
    "#total increment in the unduced power\n",
    "data['Total Indicated Power (kw)'] = ipi+ipa"
   ]
  },
  {
   "cell_type": "code",
   "execution_count": 12,
   "id": "40ae681e",
   "metadata": {},
   "outputs": [],
   "source": [
    "#increament in the brake power of the engine\n",
    "bp = data['Total Indicated Power (kw)']*(nm/100)\n",
    "#brake power without supercharger\n",
    "data['Brake Power without the SuperCharger (Kw)'] = data['Indicated Power (Kw)']*(nm/100)\n",
    "#mass of air delivered to supercharger\n",
    "ma = (p2*(Vs1/60)*10**5)/(R*T2)\n",
    "#power consumed by the super charger\n",
    "P = ma*Cp*(T2-T1)\n",
    "#power delivered to the supercharger to run\n",
    "Pd = P/(nm/100)\n",
    "#net increament in the brake power\n",
    "data['Net Increment in the brake power (Kw)']= bp-Pd"
   ]
  },
  {
   "cell_type": "code",
   "execution_count": 13,
   "id": "e282e62e",
   "metadata": {},
   "outputs": [
    {
     "data": {
      "text/html": [
       "<div>\n",
       "<style scoped>\n",
       "    .dataframe tbody tr th:only-of-type {\n",
       "        vertical-align: middle;\n",
       "    }\n",
       "\n",
       "    .dataframe tbody tr th {\n",
       "        vertical-align: top;\n",
       "    }\n",
       "\n",
       "    .dataframe thead th {\n",
       "        text-align: right;\n",
       "    }\n",
       "</style>\n",
       "<table border=\"1\" class=\"dataframe\">\n",
       "  <thead>\n",
       "    <tr style=\"text-align: right;\">\n",
       "      <th></th>\n",
       "      <th>Speed (rpm)</th>\n",
       "      <th>Volumetric Efficiency (%)</th>\n",
       "      <th>Indicated Power (Kw)</th>\n",
       "      <th>Total Indicated Power (kw)</th>\n",
       "      <th>Brake Power without the SuperCharger (Kw)</th>\n",
       "      <th>Net Increment in the brake power (Kw)</th>\n",
       "    </tr>\n",
       "  </thead>\n",
       "  <tbody>\n",
       "    <tr>\n",
       "      <th>0</th>\n",
       "      <td>1000</td>\n",
       "      <td>70</td>\n",
       "      <td>10</td>\n",
       "      <td>10.375257</td>\n",
       "      <td>8.0</td>\n",
       "      <td>5.608021</td>\n",
       "    </tr>\n",
       "    <tr>\n",
       "      <th>1</th>\n",
       "      <td>2000</td>\n",
       "      <td>76</td>\n",
       "      <td>13</td>\n",
       "      <td>23.940748</td>\n",
       "      <td>10.4</td>\n",
       "      <td>13.768230</td>\n",
       "    </tr>\n",
       "    <tr>\n",
       "      <th>2</th>\n",
       "      <td>3000</td>\n",
       "      <td>80</td>\n",
       "      <td>16</td>\n",
       "      <td>40.528472</td>\n",
       "      <td>12.8</td>\n",
       "      <td>24.346225</td>\n",
       "    </tr>\n",
       "    <tr>\n",
       "      <th>3</th>\n",
       "      <td>4000</td>\n",
       "      <td>82</td>\n",
       "      <td>20</td>\n",
       "      <td>63.889254</td>\n",
       "      <td>16.0</td>\n",
       "      <td>40.342666</td>\n",
       "    </tr>\n",
       "    <tr>\n",
       "      <th>4</th>\n",
       "      <td>5000</td>\n",
       "      <td>85</td>\n",
       "      <td>21</td>\n",
       "      <td>79.090096</td>\n",
       "      <td>16.8</td>\n",
       "      <td>49.811156</td>\n",
       "    </tr>\n",
       "    <tr>\n",
       "      <th>5</th>\n",
       "      <td>6000</td>\n",
       "      <td>86</td>\n",
       "      <td>22</td>\n",
       "      <td>97.174349</td>\n",
       "      <td>17.6</td>\n",
       "      <td>61.586374</td>\n",
       "    </tr>\n",
       "    <tr>\n",
       "      <th>6</th>\n",
       "      <td>7000</td>\n",
       "      <td>88</td>\n",
       "      <td>24</td>\n",
       "      <td>118.069953</td>\n",
       "      <td>19.2</td>\n",
       "      <td>75.610673</td>\n",
       "    </tr>\n",
       "    <tr>\n",
       "      <th>7</th>\n",
       "      <td>8000</td>\n",
       "      <td>90</td>\n",
       "      <td>26</td>\n",
       "      <td>139.412381</td>\n",
       "      <td>20.8</td>\n",
       "      <td>89.992430</td>\n",
       "    </tr>\n",
       "    <tr>\n",
       "      <th>8</th>\n",
       "      <td>9000</td>\n",
       "      <td>91</td>\n",
       "      <td>28</td>\n",
       "      <td>164.393630</td>\n",
       "      <td>22.4</td>\n",
       "      <td>107.285246</td>\n",
       "    </tr>\n",
       "    <tr>\n",
       "      <th>9</th>\n",
       "      <td>10000</td>\n",
       "      <td>93</td>\n",
       "      <td>30</td>\n",
       "      <td>186.293703</td>\n",
       "      <td>24.0</td>\n",
       "      <td>122.113120</td>\n",
       "    </tr>\n",
       "  </tbody>\n",
       "</table>\n",
       "</div>"
      ],
      "text/plain": [
       "   Speed (rpm)  Volumetric Efficiency (%)  Indicated Power (Kw)  \\\n",
       "0         1000                         70                    10   \n",
       "1         2000                         76                    13   \n",
       "2         3000                         80                    16   \n",
       "3         4000                         82                    20   \n",
       "4         5000                         85                    21   \n",
       "5         6000                         86                    22   \n",
       "6         7000                         88                    24   \n",
       "7         8000                         90                    26   \n",
       "8         9000                         91                    28   \n",
       "9        10000                         93                    30   \n",
       "\n",
       "   Total Indicated Power (kw)  Brake Power without the SuperCharger (Kw)  \\\n",
       "0                   10.375257                                        8.0   \n",
       "1                   23.940748                                       10.4   \n",
       "2                   40.528472                                       12.8   \n",
       "3                   63.889254                                       16.0   \n",
       "4                   79.090096                                       16.8   \n",
       "5                   97.174349                                       17.6   \n",
       "6                  118.069953                                       19.2   \n",
       "7                  139.412381                                       20.8   \n",
       "8                  164.393630                                       22.4   \n",
       "9                  186.293703                                       24.0   \n",
       "\n",
       "   Net Increment in the brake power (Kw)  \n",
       "0                               5.608021  \n",
       "1                              13.768230  \n",
       "2                              24.346225  \n",
       "3                              40.342666  \n",
       "4                              49.811156  \n",
       "5                              61.586374  \n",
       "6                              75.610673  \n",
       "7                              89.992430  \n",
       "8                             107.285246  \n",
       "9                             122.113120  "
      ]
     },
     "execution_count": 13,
     "metadata": {},
     "output_type": "execute_result"
    }
   ],
   "source": [
    "#Viewing the data\n",
    "data.head(n=10)"
   ]
  },
  {
   "cell_type": "markdown",
   "id": "2c244ef9",
   "metadata": {},
   "source": [
    "Plotting - Indicated and Brake Power with respect to Engine Speed"
   ]
  },
  {
   "cell_type": "code",
   "execution_count": 14,
   "id": "c371ccf9",
   "metadata": {},
   "outputs": [
    {
     "data": {
      "text/plain": [
       "<matplotlib.legend.Legend at 0x244d2c4c280>"
      ]
     },
     "execution_count": 14,
     "metadata": {},
     "output_type": "execute_result"
    },
    {
     "data": {
      "image/png": "[encoded data removed]",
      "text/plain": [
       "<Figure size 432x288 with 1 Axes>"
      ]
     },
     "metadata": {
      "needs_background": "light"
     },
     "output_type": "display_data"
    }
   ],
   "source": [
    "plt.plot(data['Speed (rpm)'], data['Brake Power without the SuperCharger (Kw)'],'r',label = 'BP without supercharger')\n",
    "plt.plot(data['Speed (rpm)'], data['Indicated Power (Kw)'],'g',label = 'Indicated Power without the supercharger')\n",
    "\n",
    "plt.title(\"IP and BP of Engine without the supercharger\")\n",
    "plt.xlabel(\"Engine's Speed (rpm)\")\n",
    "plt.ylabel(\"Power (Kw)\")\n",
    "\n",
    "plt.legend(loc='best')"
   ]
  },
  {
   "cell_type": "code",
   "execution_count": 15,
   "id": "e04c5f05",
   "metadata": {},
   "outputs": [
    {
     "data": {
      "text/plain": [
       "<matplotlib.legend.Legend at 0x244d33f4700>"
      ]
     },
     "execution_count": 15,
     "metadata": {},
     "output_type": "execute_result"
    },
    {
     "data": {
      "image/png": "[encoded data removed]",
      "text/plain": [
       "<Figure size 432x288 with 1 Axes>"
      ]
     },
     "metadata": {
      "needs_background": "light"
     },
     "output_type": "display_data"
    }
   ],
   "source": [
    "plt.plot(data['Speed (rpm)'],data['Net Increment in the brake power (Kw)'],'-r',label = 'BP with supercharger')\n",
    "plt.plot(data['Speed (rpm)'], data['Brake Power without the SuperCharger (Kw)'],':r',label = 'BP without supercharger')\n",
    "plt.plot(data['Speed (rpm)'], data['Total Indicated Power (kw)'],'-g',label = 'Indicated Power with the supercharger')\n",
    "plt.plot(data['Speed (rpm)'], data['Indicated Power (Kw)'],':g',label = 'Indicated Power without the supercharger')\n",
    "\n",
    "plt.title(\"IP and BP of Engine with and without the supercharger\")\n",
    "plt.xlabel(\"Engine's Speed (rpm)\")\n",
    "plt.ylabel(\"Power (Kw)\")\n",
    "\n",
    "plt.legend(loc='best')"
   ]
  },
  {
   "cell_type": "markdown",
   "id": "e44b25ab",
   "metadata": {},
   "source": [
    "# From the above graph we can see the difference in engine performance with and without the supercharger."
   ]
  }
 ],
 "metadata": {
  "kernelspec": {
   "display_name": "Python 3",
   "language": "python",
   "name": "python3"
  },
  "language_info": {
   "codemirror_mode": {
    "name": "ipython",
    "version": 3
   },
   "file_extension": ".py",
   "mimetype": "text/x-python",
   "name": "python",
   "nbconvert_exporter": "python",
   "pygments_lexer": "ipython3",
   "version": "3.8.8"
  }
 },
 "nbformat": 4,
 "nbformat_minor": 5
}
